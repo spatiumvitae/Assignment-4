{
 "cells": [
  {
   "cell_type": "raw",
   "id": "ab2d1925",
   "metadata": {},
   "source": [
    "1. Write a Python Program(with class concepts) to find the area of the triangle using the below\n",
    "formula.\n",
    "area = (s*(s-a)*(s-b)*(s-c)) ** 0.5\n",
    "Function to take the length of the sides of triangle from user should be defined in the parent\n",
    "class and function to calculate the area should be defined in subclass."
   ]
  },
  {
   "cell_type": "code",
   "execution_count": 12,
   "id": "6a3c6c6c",
   "metadata": {},
   "outputs": [],
   "source": [
    "class sides:\n",
    "    def __init__(self,a,b,c):\n",
    "        self.a = a\n",
    "        self.b = b\n",
    "        self.c = c\n",
    "        self.s = (a+b+c)/2\n",
    "class triangle(sides):\n",
    "    def area(self):\n",
    "        return (self.s*(self.s-self.a)*(self.s-self.b)*(self.s-self.c)) ** 0.5"
   ]
  },
  {
   "cell_type": "code",
   "execution_count": 13,
   "id": "38f91660",
   "metadata": {},
   "outputs": [
    {
     "data": {
      "text/plain": [
       "9.921567416492215"
      ]
     },
     "execution_count": 13,
     "metadata": {},
     "output_type": "execute_result"
    }
   ],
   "source": [
    "s = triangle(4,5,6)\n",
    "s.area()"
   ]
  },
  {
   "cell_type": "raw",
   "id": "3d930e8d",
   "metadata": {},
   "source": [
    "2.Write a function filter_long_words() that takes a list of words and an integer n and returns\n",
    "the list of words that are longer than n."
   ]
  },
  {
   "cell_type": "code",
   "execution_count": 30,
   "id": "2f406bef",
   "metadata": {},
   "outputs": [],
   "source": [
    "def filter_long_words(sequence,n):\n",
    "    li = []\n",
    "    for i in sequence:\n",
    "        if len(i)>n:\n",
    "            li.append(i)\n",
    "    print(li)"
   ]
  },
  {
   "cell_type": "code",
   "execution_count": 31,
   "id": "b692cc91",
   "metadata": {},
   "outputs": [
    {
     "name": "stdout",
     "output_type": "stream",
     "text": [
      "['venkata', 'karthik']\n"
     ]
    }
   ],
   "source": [
    "seq = ['venkata','satya','naga','sai','karthik']\n",
    "n = 5\n",
    "filter_long_words(seq,n)"
   ]
  },
  {
   "cell_type": "code",
   "execution_count": 32,
   "id": "7e1cee76",
   "metadata": {},
   "outputs": [],
   "source": [
    "li = []\n",
    "for i in range(10):\n",
    "    li.append(i)"
   ]
  },
  {
   "cell_type": "raw",
   "id": "71de5895",
   "metadata": {},
   "source": [
    "3.Write a Python program using function concept that maps list of words into a list of integers\n",
    "representing the lengths of the corresponding words."
   ]
  },
  {
   "cell_type": "code",
   "execution_count": 34,
   "id": "dc9e8215",
   "metadata": {},
   "outputs": [],
   "source": [
    "def map_list_words(sequence):\n",
    "    lis = []\n",
    "    for i in sequence:\n",
    "        lis.append(len(i))\n",
    "    print(lis)"
   ]
  },
  {
   "cell_type": "code",
   "execution_count": 35,
   "id": "7542a6ff",
   "metadata": {},
   "outputs": [
    {
     "name": "stdout",
     "output_type": "stream",
     "text": [
      "[7, 5, 4, 3, 7]\n"
     ]
    }
   ],
   "source": [
    "seq1 = ['venkata','satya','naga','sai','karthik']\n",
    "map_list_words(seq1)"
   ]
  },
  {
   "cell_type": "raw",
   "id": "9b76a79d",
   "metadata": {},
   "source": [
    "4.Write a Python function which takes a character (i.e. a string of length 1) and returns True if\n",
    "it is a vowel, False otherwise."
   ]
  },
  {
   "cell_type": "code",
   "execution_count": 46,
   "id": "749382cd",
   "metadata": {},
   "outputs": [],
   "source": [
    "def funct(k):\n",
    "    if len(k)>1:\n",
    "        print('String length should not be greater than 1')\n",
    "    vowels = ['a','e','i','o','u']\n",
    "    for i in vowels:\n",
    "        if k==i:\n",
    "            return True\n",
    "        else:\n",
    "            return False\n"
   ]
  },
  {
   "cell_type": "code",
   "execution_count": 43,
   "id": "637e37c4",
   "metadata": {},
   "outputs": [
    {
     "name": "stdout",
     "output_type": "stream",
     "text": [
      "String length should not be greater than 1\n"
     ]
    }
   ],
   "source": [
    "funct('kart')"
   ]
  },
  {
   "cell_type": "code",
   "execution_count": 44,
   "id": "b87d03f3",
   "metadata": {},
   "outputs": [
    {
     "data": {
      "text/plain": [
       "True"
      ]
     },
     "execution_count": 44,
     "metadata": {},
     "output_type": "execute_result"
    }
   ],
   "source": [
    "funct('a')"
   ]
  },
  {
   "cell_type": "code",
   "execution_count": 47,
   "id": "8bad2aa4",
   "metadata": {},
   "outputs": [
    {
     "data": {
      "text/plain": [
       "False"
      ]
     },
     "execution_count": 47,
     "metadata": {},
     "output_type": "execute_result"
    }
   ],
   "source": [
    "funct('b')"
   ]
  },
  {
   "cell_type": "code",
   "execution_count": null,
   "id": "6a077c40",
   "metadata": {},
   "outputs": [],
   "source": []
  }
 ],
 "metadata": {
  "kernelspec": {
   "display_name": "Python 3 (ipykernel)",
   "language": "python",
   "name": "python3"
  },
  "language_info": {
   "codemirror_mode": {
    "name": "ipython",
    "version": 3
   },
   "file_extension": ".py",
   "mimetype": "text/x-python",
   "name": "python",
   "nbconvert_exporter": "python",
   "pygments_lexer": "ipython3",
   "version": "3.9.12"
  }
 },
 "nbformat": 4,
 "nbformat_minor": 5
}
